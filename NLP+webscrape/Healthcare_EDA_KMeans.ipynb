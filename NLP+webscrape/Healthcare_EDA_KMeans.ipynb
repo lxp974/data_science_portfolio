{
 "cells": [
  {
   "cell_type": "markdown",
   "id": "773fe491-ac3f-4ddf-af04-001ff3962d18",
   "metadata": {},
   "source": [
    "# Healthcare data EDA"
   ]
  },
  {
   "cell_type": "code",
   "execution_count": 234,
   "id": "706829cb-38af-49df-a208-6fa7d57cf7dc",
   "metadata": {},
   "outputs": [],
   "source": [
    "import numpy as np\n",
    "import seaborn as sns\n",
    "import pandas as pd\n",
    "import matplotlib.pyplot as plt\n",
    "from datetime import datetime\n",
    "\n"
   ]
  },
  {
   "cell_type": "markdown",
   "id": "b047e007-903e-45a3-938e-fe315da0b1f2",
   "metadata": {},
   "source": [
    "## Healthcare data from Kaggle:\n",
    "Data Information: <br>\n",
    "- **Name**: Column represents patient's name on health record <br>\n",
    "- **Age**: age of patient at time of admission in years <br>\n",
    "- **Gender**: patient gender either \"Male\" or \"Female\" <br>\n",
    "- **Blood type**: Patient's bloodtype of the common ones \"A+\", \"O-\" etc <br>\n",
    "- **Medical condition**: primary medical condition or diagnosis associated with patient <br>\n",
    "- **Date of admission**: date patient was admitted to the facility <br>\n",
    "- **Doctor**: Name of doctor responsible for care during admission <br>\n",
    "- **Hospital**: Name of hospital or facility where patient was admitted <br>\n",
    "- **Insurance provider**: patient's insurance provider <br>\n",
    "- **Billing amount**: amount of money billed to patient for their healthcare services during admission <br>\n",
    "- **Room number**: Room number where patient was accomodated during admission <br>\n",
    "- **Discharge date**: Date patient was discharged from healthcare facility <br>\n",
    "- **Medication**: Identifies medication prescribed during their admission <br>\n",
    "- **Test results**: Describes the results of medical tests conducted during patient's admission\n",
    "\n",
    "\n"
   ]
  },
  {
   "cell_type": "code",
   "execution_count": 61,
   "id": "fb485f87-7ed7-450f-a478-c423f6327b1b",
   "metadata": {},
   "outputs": [
    {
     "data": {
      "text/html": [
       "<div>\n",
       "<style scoped>\n",
       "    .dataframe tbody tr th:only-of-type {\n",
       "        vertical-align: middle;\n",
       "    }\n",
       "\n",
       "    .dataframe tbody tr th {\n",
       "        vertical-align: top;\n",
       "    }\n",
       "\n",
       "    .dataframe thead th {\n",
       "        text-align: right;\n",
       "    }\n",
       "</style>\n",
       "<table border=\"1\" class=\"dataframe\">\n",
       "  <thead>\n",
       "    <tr style=\"text-align: right;\">\n",
       "      <th></th>\n",
       "      <th>Name</th>\n",
       "      <th>Age</th>\n",
       "      <th>Gender</th>\n",
       "      <th>Blood Type</th>\n",
       "      <th>Medical Condition</th>\n",
       "      <th>Date of Admission</th>\n",
       "      <th>Doctor</th>\n",
       "      <th>Hospital</th>\n",
       "      <th>Insurance Provider</th>\n",
       "      <th>Billing Amount</th>\n",
       "      <th>Room Number</th>\n",
       "      <th>Admission Type</th>\n",
       "      <th>Discharge Date</th>\n",
       "      <th>Medication</th>\n",
       "      <th>Test Results</th>\n",
       "    </tr>\n",
       "  </thead>\n",
       "  <tbody>\n",
       "    <tr>\n",
       "      <th>0</th>\n",
       "      <td>Bobby JacksOn</td>\n",
       "      <td>30</td>\n",
       "      <td>Male</td>\n",
       "      <td>B-</td>\n",
       "      <td>Cancer</td>\n",
       "      <td>2024-01-31</td>\n",
       "      <td>Matthew Smith</td>\n",
       "      <td>Sons and Miller</td>\n",
       "      <td>Blue Cross</td>\n",
       "      <td>18856.281306</td>\n",
       "      <td>328</td>\n",
       "      <td>Urgent</td>\n",
       "      <td>2024-02-02</td>\n",
       "      <td>Paracetamol</td>\n",
       "      <td>Normal</td>\n",
       "    </tr>\n",
       "    <tr>\n",
       "      <th>1</th>\n",
       "      <td>LesLie TErRy</td>\n",
       "      <td>62</td>\n",
       "      <td>Male</td>\n",
       "      <td>A+</td>\n",
       "      <td>Obesity</td>\n",
       "      <td>2019-08-20</td>\n",
       "      <td>Samantha Davies</td>\n",
       "      <td>Kim Inc</td>\n",
       "      <td>Medicare</td>\n",
       "      <td>33643.327287</td>\n",
       "      <td>265</td>\n",
       "      <td>Emergency</td>\n",
       "      <td>2019-08-26</td>\n",
       "      <td>Ibuprofen</td>\n",
       "      <td>Inconclusive</td>\n",
       "    </tr>\n",
       "    <tr>\n",
       "      <th>2</th>\n",
       "      <td>DaNnY sMitH</td>\n",
       "      <td>76</td>\n",
       "      <td>Female</td>\n",
       "      <td>A-</td>\n",
       "      <td>Obesity</td>\n",
       "      <td>2022-09-22</td>\n",
       "      <td>Tiffany Mitchell</td>\n",
       "      <td>Cook PLC</td>\n",
       "      <td>Aetna</td>\n",
       "      <td>27955.096079</td>\n",
       "      <td>205</td>\n",
       "      <td>Emergency</td>\n",
       "      <td>2022-10-07</td>\n",
       "      <td>Aspirin</td>\n",
       "      <td>Normal</td>\n",
       "    </tr>\n",
       "    <tr>\n",
       "      <th>3</th>\n",
       "      <td>andrEw waTtS</td>\n",
       "      <td>28</td>\n",
       "      <td>Female</td>\n",
       "      <td>O+</td>\n",
       "      <td>Diabetes</td>\n",
       "      <td>2020-11-18</td>\n",
       "      <td>Kevin Wells</td>\n",
       "      <td>Hernandez Rogers and Vang,</td>\n",
       "      <td>Medicare</td>\n",
       "      <td>37909.782410</td>\n",
       "      <td>450</td>\n",
       "      <td>Elective</td>\n",
       "      <td>2020-12-18</td>\n",
       "      <td>Ibuprofen</td>\n",
       "      <td>Abnormal</td>\n",
       "    </tr>\n",
       "    <tr>\n",
       "      <th>4</th>\n",
       "      <td>adrIENNE bEll</td>\n",
       "      <td>43</td>\n",
       "      <td>Female</td>\n",
       "      <td>AB+</td>\n",
       "      <td>Cancer</td>\n",
       "      <td>2022-09-19</td>\n",
       "      <td>Kathleen Hanna</td>\n",
       "      <td>White-White</td>\n",
       "      <td>Aetna</td>\n",
       "      <td>14238.317814</td>\n",
       "      <td>458</td>\n",
       "      <td>Urgent</td>\n",
       "      <td>2022-10-09</td>\n",
       "      <td>Penicillin</td>\n",
       "      <td>Abnormal</td>\n",
       "    </tr>\n",
       "  </tbody>\n",
       "</table>\n",
       "</div>"
      ],
      "text/plain": [
       "            Name  Age  Gender Blood Type Medical Condition Date of Admission  \\\n",
       "0  Bobby JacksOn   30    Male         B-            Cancer        2024-01-31   \n",
       "1   LesLie TErRy   62    Male         A+           Obesity        2019-08-20   \n",
       "2    DaNnY sMitH   76  Female         A-           Obesity        2022-09-22   \n",
       "3   andrEw waTtS   28  Female         O+          Diabetes        2020-11-18   \n",
       "4  adrIENNE bEll   43  Female        AB+            Cancer        2022-09-19   \n",
       "\n",
       "             Doctor                    Hospital Insurance Provider  \\\n",
       "0     Matthew Smith             Sons and Miller         Blue Cross   \n",
       "1   Samantha Davies                     Kim Inc           Medicare   \n",
       "2  Tiffany Mitchell                    Cook PLC              Aetna   \n",
       "3       Kevin Wells  Hernandez Rogers and Vang,           Medicare   \n",
       "4    Kathleen Hanna                 White-White              Aetna   \n",
       "\n",
       "   Billing Amount  Room Number Admission Type Discharge Date   Medication  \\\n",
       "0    18856.281306          328         Urgent     2024-02-02  Paracetamol   \n",
       "1    33643.327287          265      Emergency     2019-08-26    Ibuprofen   \n",
       "2    27955.096079          205      Emergency     2022-10-07      Aspirin   \n",
       "3    37909.782410          450       Elective     2020-12-18    Ibuprofen   \n",
       "4    14238.317814          458         Urgent     2022-10-09   Penicillin   \n",
       "\n",
       "   Test Results  \n",
       "0        Normal  \n",
       "1  Inconclusive  \n",
       "2        Normal  \n",
       "3      Abnormal  \n",
       "4      Abnormal  "
      ]
     },
     "execution_count": 61,
     "metadata": {},
     "output_type": "execute_result"
    }
   ],
   "source": [
    "# Load English language trained model\n",
    "nlp = spacy.load(\"en_core_web_sm\")\n",
    "\n",
    "# Load healthcare data\n",
    "data = pd.read_csv('healthcare_dataset.csv')\n",
    "\n",
    "data.head()"
   ]
  },
  {
   "cell_type": "code",
   "execution_count": 63,
   "id": "641ff49a-2c9c-46ef-a4ec-322d65aff7a2",
   "metadata": {},
   "outputs": [
    {
     "data": {
      "text/plain": [
       "(55500, 15)"
      ]
     },
     "execution_count": 63,
     "metadata": {},
     "output_type": "execute_result"
    }
   ],
   "source": [
    "data.shape"
   ]
  },
  {
   "cell_type": "code",
   "execution_count": 170,
   "id": "12890356-5df2-4769-b2cd-36200ad41e60",
   "metadata": {},
   "outputs": [
    {
     "data": {
      "text/plain": [
       "Name                  0\n",
       "Age                   0\n",
       "Gender                0\n",
       "Blood Type            0\n",
       "Medical Condition     0\n",
       "Date of Admission     0\n",
       "Doctor                0\n",
       "Hospital              0\n",
       "Insurance Provider    0\n",
       "Billing Amount        0\n",
       "Room Number           0\n",
       "Admission Type        0\n",
       "Discharge Date        0\n",
       "Medication            0\n",
       "Test Results          0\n",
       "dtype: int64"
      ]
     },
     "execution_count": 170,
     "metadata": {},
     "output_type": "execute_result"
    }
   ],
   "source": [
    "data.isnull().sum()"
   ]
  },
  {
   "cell_type": "code",
   "execution_count": 65,
   "id": "aaa2b15f-ea05-478f-abf5-c2515ae4855b",
   "metadata": {},
   "outputs": [
    {
     "name": "stdout",
     "output_type": "stream",
     "text": [
      "<class 'pandas.core.frame.DataFrame'>\n",
      "RangeIndex: 55500 entries, 0 to 55499\n",
      "Data columns (total 15 columns):\n",
      " #   Column              Non-Null Count  Dtype  \n",
      "---  ------              --------------  -----  \n",
      " 0   Name                55500 non-null  object \n",
      " 1   Age                 55500 non-null  int64  \n",
      " 2   Gender              55500 non-null  object \n",
      " 3   Blood Type          55500 non-null  object \n",
      " 4   Medical Condition   55500 non-null  object \n",
      " 5   Date of Admission   55500 non-null  object \n",
      " 6   Doctor              55500 non-null  object \n",
      " 7   Hospital            55500 non-null  object \n",
      " 8   Insurance Provider  55500 non-null  object \n",
      " 9   Billing Amount      55500 non-null  float64\n",
      " 10  Room Number         55500 non-null  int64  \n",
      " 11  Admission Type      55500 non-null  object \n",
      " 12  Discharge Date      55500 non-null  object \n",
      " 13  Medication          55500 non-null  object \n",
      " 14  Test Results        55500 non-null  object \n",
      "dtypes: float64(1), int64(2), object(12)\n",
      "memory usage: 6.4+ MB\n"
     ]
    }
   ],
   "source": [
    "data.info()"
   ]
  },
  {
   "cell_type": "markdown",
   "id": "59aefdd4-4091-4bab-9377-2a85fb7f8fb9",
   "metadata": {},
   "source": [
    "## Exploratory Data Analysis (EDA)"
   ]
  },
  {
   "cell_type": "code",
   "execution_count": 66,
   "id": "3cf7eb7b-fb64-48e8-b927-411306e06bdf",
   "metadata": {},
   "outputs": [
    {
     "data": {
      "text/html": [
       "<div>\n",
       "<style scoped>\n",
       "    .dataframe tbody tr th:only-of-type {\n",
       "        vertical-align: middle;\n",
       "    }\n",
       "\n",
       "    .dataframe tbody tr th {\n",
       "        vertical-align: top;\n",
       "    }\n",
       "\n",
       "    .dataframe thead th {\n",
       "        text-align: right;\n",
       "    }\n",
       "</style>\n",
       "<table border=\"1\" class=\"dataframe\">\n",
       "  <thead>\n",
       "    <tr style=\"text-align: right;\">\n",
       "      <th></th>\n",
       "      <th>Age</th>\n",
       "      <th>Billing Amount</th>\n",
       "      <th>Room Number</th>\n",
       "    </tr>\n",
       "  </thead>\n",
       "  <tbody>\n",
       "    <tr>\n",
       "      <th>count</th>\n",
       "      <td>55500.000000</td>\n",
       "      <td>55500.000000</td>\n",
       "      <td>55500.000000</td>\n",
       "    </tr>\n",
       "    <tr>\n",
       "      <th>mean</th>\n",
       "      <td>51.539459</td>\n",
       "      <td>25539.316097</td>\n",
       "      <td>301.134829</td>\n",
       "    </tr>\n",
       "    <tr>\n",
       "      <th>std</th>\n",
       "      <td>19.602454</td>\n",
       "      <td>14211.454431</td>\n",
       "      <td>115.243069</td>\n",
       "    </tr>\n",
       "    <tr>\n",
       "      <th>min</th>\n",
       "      <td>13.000000</td>\n",
       "      <td>-2008.492140</td>\n",
       "      <td>101.000000</td>\n",
       "    </tr>\n",
       "    <tr>\n",
       "      <th>25%</th>\n",
       "      <td>35.000000</td>\n",
       "      <td>13241.224652</td>\n",
       "      <td>202.000000</td>\n",
       "    </tr>\n",
       "    <tr>\n",
       "      <th>50%</th>\n",
       "      <td>52.000000</td>\n",
       "      <td>25538.069376</td>\n",
       "      <td>302.000000</td>\n",
       "    </tr>\n",
       "    <tr>\n",
       "      <th>75%</th>\n",
       "      <td>68.000000</td>\n",
       "      <td>37820.508436</td>\n",
       "      <td>401.000000</td>\n",
       "    </tr>\n",
       "    <tr>\n",
       "      <th>max</th>\n",
       "      <td>89.000000</td>\n",
       "      <td>52764.276736</td>\n",
       "      <td>500.000000</td>\n",
       "    </tr>\n",
       "  </tbody>\n",
       "</table>\n",
       "</div>"
      ],
      "text/plain": [
       "                Age  Billing Amount   Room Number\n",
       "count  55500.000000    55500.000000  55500.000000\n",
       "mean      51.539459    25539.316097    301.134829\n",
       "std       19.602454    14211.454431    115.243069\n",
       "min       13.000000    -2008.492140    101.000000\n",
       "25%       35.000000    13241.224652    202.000000\n",
       "50%       52.000000    25538.069376    302.000000\n",
       "75%       68.000000    37820.508436    401.000000\n",
       "max       89.000000    52764.276736    500.000000"
      ]
     },
     "execution_count": 66,
     "metadata": {},
     "output_type": "execute_result"
    }
   ],
   "source": [
    "data.describe()"
   ]
  },
  {
   "cell_type": "code",
   "execution_count": 233,
   "id": "81675628-0bb2-4d88-92d9-1192cfcb1b36",
   "metadata": {},
   "outputs": [
    {
     "name": "stdout",
     "output_type": "stream",
     "text": [
      "The average number of admissions for a given month is 4625.0\n"
     ]
    },
    {
     "data": {
      "image/png": "[encoded data removed]",
      "text/plain": [
       "<Figure size 640x480 with 1 Axes>"
      ]
     },
     "metadata": {},
     "output_type": "display_data"
    }
   ],
   "source": [
    "# Hospital admissions per month\n",
    "admissions_per_month = pd.to_datetime(data['Date of Admission']).dt.month.value_counts().sort_index()\n",
    "average_admissions= sum(admissions_per_month)/len(admissions_per_month)\n",
    "\n",
    "# sns.barplot(admissions_per_month, x='Month', y='Number of patients admitted')\n",
    "sns.barplot(admissions_per_month, color='skyblue')\n",
    "plt.axhline(y=average_admissions, color='r', linestyle='--')\n",
    "plt.xlabel('Month')\n",
    "plt.ylabel('Number of Admissions')\n",
    "\n",
    "print(f'The average number of admissions for a given month is {average_admissions}')"
   ]
  },
  {
   "cell_type": "code",
   "execution_count": 160,
   "id": "69d1883e-293e-4069-8c90-23ea6c430952",
   "metadata": {},
   "outputs": [
    {
     "name": "stdout",
     "output_type": "stream",
     "text": [
      "Average length of stay: 15 days\n",
      "Maximum length of stay: 30 days\n",
      "Minimum length of stay: 1 day\n"
     ]
    }
   ],
   "source": [
    "# Length of stay\n",
    "d1 = pd.to_datetime(data['Date of Admission'])\n",
    "d2 = pd.to_datetime(data['Discharge Date'])\n",
    "\n",
    "length_of_stay = (d2-d1)\n",
    "\n",
    "print(f'Average length of stay: {length_of_stay.mean().days} days')\n",
    "print(f'Maximum length of stay: {length_of_stay.max().days} days')\n",
    "print(f'Minimum length of stay: {length_of_stay.min().days} day')"
   ]
  },
  {
   "cell_type": "code",
   "execution_count": 202,
   "id": "982d4df2-b03a-4acb-96b1-5969e5cc5616",
   "metadata": {},
   "outputs": [
    {
     "data": {
      "image/png": "[encoded data removed]",
      "text/plain": [
       "<Figure size 640x480 with 1 Axes>"
      ]
     },
     "metadata": {},
     "output_type": "display_data"
    }
   ],
   "source": [
    "# Relationship between age and medical condition and gender\n",
    "ax=sns.boxplot(data=data, x='Medical Condition', y='Age', hue='Gender', gap=0.15, palette='colorblind')\n",
    "sns.move_legend(ax,\"upper center\", bbox_to_anchor=(0.5, 1.15), frameon=False, ncol=2)\n"
   ]
  },
  {
   "cell_type": "code",
   "execution_count": 217,
   "id": "06732d71-1ea4-4d33-bbbe-f58a07073ca3",
   "metadata": {},
   "outputs": [
    {
     "data": {
      "text/plain": [
       "0              Normal\n",
       "1        Inconclusive\n",
       "2              Normal\n",
       "3            Abnormal\n",
       "4            Abnormal\n",
       "             ...     \n",
       "55495        Abnormal\n",
       "55496          Normal\n",
       "55497        Abnormal\n",
       "55498        Abnormal\n",
       "55499        Abnormal\n",
       "Name: Test Results, Length: 55500, dtype: object"
      ]
     },
     "execution_count": 217,
     "metadata": {},
     "output_type": "execute_result"
    }
   ],
   "source": [
    "# Relationship between gender and test results\n",
    "result = data['Test Results']\n",
    "# sns.barplot(data=data, x=result, y='Gender', gap=0.15, palette='colorblind')\n",
    "# sns.move_legend(ax,\"upper center\", bbox_to_anchor=(0.5, 1.15), frameon=False, ncol=2)\n",
    "result"
   ]
  },
  {
   "cell_type": "code",
   "execution_count": 229,
   "id": "eace1f99-66ed-436a-a489-0ed9d30c65f0",
   "metadata": {},
   "outputs": [
    {
     "name": "stdout",
     "output_type": "stream",
     "text": [
      "Test Results by Medical Condition:\n",
      "Test Results       Abnormal  Inconclusive  Normal\n",
      "Medical Condition                                \n",
      "Arthritis              3188          3088    3032\n",
      "Asthma                 3009          3029    3147\n",
      "Cancer                 3118          3060    3049\n",
      "Diabetes               3168          3046    3090\n",
      "Hypertension           3012          3091    3142\n",
      "Obesity                3132          3042    3057\n"
     ]
    },
    {
     "data": {
      "image/png": "[encoded data removed]",
      "text/plain": [
       "<Figure size 640x480 with 1 Axes>"
      ]
     },
     "metadata": {},
     "output_type": "display_data"
    }
   ],
   "source": [
    "# Test results for each medical condition\n",
    "condition_vs_test = data.groupby('Medical Condition')['Test Results'].value_counts().unstack()\n",
    "print(\"Test Results by Medical Condition:\")\n",
    "print(condition_vs_test)\n",
    "\n",
    "# Visualise medication prescribed to the medical condition\n",
    "plot=sns.countplot(data=data, x='Medical Condition', hue='Medication', palette='Set1')\n",
    "sns.move_legend(plot,\"upper center\", bbox_to_anchor=(0.5, 1.17), frameon=False, ncol=5)\n"
   ]
  },
  {
   "cell_type": "markdown",
   "id": "ceead50c-788f-4b4d-a2c0-3f04fe230ff8",
   "metadata": {},
   "source": [
    "## Key Observations:\n",
    "- The data does not contain missing values that need to be handled. <br>\n",
    "- The data shows little variation in hospital admission numbers per month with the average being 4625 <br>\n",
    "- There is a large age range for each medical condition with the median, lower and upper quartile ranges for being quite similar for each condition. <br>\n",
    "- All medications are used to treat each medical condition."
   ]
  },
  {
   "cell_type": "code",
   "execution_count": 231,
   "id": "06ddde41-9eb8-470d-85f7-eea484c4aaa8",
   "metadata": {},
   "outputs": [
    {
     "data": {
      "text/plain": [
       "0        18856.281306\n",
       "1        33643.327287\n",
       "2        27955.096079\n",
       "3        37909.782410\n",
       "4        14238.317814\n",
       "             ...     \n",
       "55495     2650.714952\n",
       "55496    31457.797307\n",
       "55497    27620.764717\n",
       "55498    32451.092358\n",
       "55499     4010.134172\n",
       "Name: Billing Amount, Length: 55500, dtype: float64"
      ]
     },
     "execution_count": 231,
     "metadata": {},
     "output_type": "execute_result"
    }
   ],
   "source": [
    "data['Billing Amount']"
   ]
  },
  {
   "cell_type": "code",
   "execution_count": null,
   "id": "1a5ac581-35d3-4cbb-885d-46b7ae5fbe58",
   "metadata": {},
   "outputs": [],
   "source": [
    "# test results vs. disease"
   ]
  },
  {
   "cell_type": "markdown",
   "id": "abc2c237-467e-41e0-8e86-38d8dad90add",
   "metadata": {},
   "source": [
    "# Research Question: \n",
    "Can we identify distinct patient groups based on their billing amounts, and do certain medical conditions lead to higher treatment costs than others? <br>\n",
    "<br>\n",
    "This could help hospital administrators optimise pricing strategies and resource allocation and nform policy makers about which are the most costly disease to treat."
   ]
  },
  {
   "cell_type": "markdown",
   "id": "55540205-658c-4f1d-8e78-f06e0bdbb613",
   "metadata": {},
   "source": [
    "## Perform K-Means Clustering and determine k"
   ]
  },
  {
   "cell_type": "code",
   "execution_count": null,
   "id": "4444178c-eacd-49c5-bc2f-5bafd20557f9",
   "metadata": {},
   "outputs": [],
   "source": []
  },
  {
   "cell_type": "markdown",
   "id": "b0f9cdfd-4836-4f2c-a2cd-34452a48d779",
   "metadata": {},
   "source": [
    "Can we predict the length of stay? - random forest, XGBoost, Linear reg <br>\n",
    "Eval metrics"
   ]
  },
  {
   "cell_type": "markdown",
   "id": "e5cddf56-c2e5-4e09-b515-eafc0a0e6fb7",
   "metadata": {},
   "source": [
    "Classification problem "
   ]
  }
 ],
 "metadata": {
  "kernelspec": {
   "display_name": "Python 3 (ipykernel)",
   "language": "python",
   "name": "python3"
  },
  "language_info": {
   "codemirror_mode": {
    "name": "ipython",
    "version": 3
   },
   "file_extension": ".py",
   "mimetype": "text/x-python",
   "name": "python",
   "nbconvert_exporter": "python",
   "pygments_lexer": "ipython3",
   "version": "3.12.2"
  }
 },
 "nbformat": 4,
 "nbformat_minor": 5
}
